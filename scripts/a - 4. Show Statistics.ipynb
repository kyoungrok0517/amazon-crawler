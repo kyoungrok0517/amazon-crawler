{
 "cells": [
  {
   "cell_type": "code",
   "execution_count": 43,
   "metadata": {
    "collapsed": false
   },
   "outputs": [],
   "source": [
    "from __future__ import print_function, unicode_literals, division\n",
    "import cPickle as pickle\n",
    "from pprint import pprint\n",
    "from pymongo import MongoClient\n",
    "import numpy as np\n",
    "from collections import Counter\n",
    "from spacy.en import English\n",
    "import math\n",
    "from pprint import pprint"
   ]
  },
  {
   "cell_type": "markdown",
   "metadata": {},
   "source": [
    "# 데이터 통계"
   ]
  },
  {
   "cell_type": "code",
   "execution_count": 2,
   "metadata": {
    "collapsed": false
   },
   "outputs": [],
   "source": [
    "client = MongoClient()\n",
    "db = client['amazon']\n",
    "headphones = list(db['headphone_detail'].find())"
   ]
  },
  {
   "cell_type": "code",
   "execution_count": 3,
   "metadata": {
    "collapsed": false
   },
   "outputs": [],
   "source": [
    "review_count_list = np.array([h['review_count'] for h in headphones])"
   ]
  },
  {
   "cell_type": "markdown",
   "metadata": {},
   "source": [
    "## Mean"
   ]
  },
  {
   "cell_type": "code",
   "execution_count": 4,
   "metadata": {
    "collapsed": false
   },
   "outputs": [
    {
     "data": {
      "text/plain": [
       "344.20022350530826"
      ]
     },
     "execution_count": 4,
     "metadata": {},
     "output_type": "execute_result"
    }
   ],
   "source": [
    "np.mean(review_count_list)"
   ]
  },
  {
   "cell_type": "markdown",
   "metadata": {},
   "source": [
    "## Median"
   ]
  },
  {
   "cell_type": "code",
   "execution_count": 5,
   "metadata": {
    "collapsed": false
   },
   "outputs": [
    {
     "data": {
      "text/plain": [
       "66.0"
      ]
     },
     "execution_count": 5,
     "metadata": {},
     "output_type": "execute_result"
    }
   ],
   "source": [
    "np.median(review_count_list)"
   ]
  },
  {
   "cell_type": "markdown",
   "metadata": {},
   "source": [
    "## Max, Min"
   ]
  },
  {
   "cell_type": "code",
   "execution_count": 6,
   "metadata": {
    "collapsed": false
   },
   "outputs": [
    {
     "data": {
      "text/plain": [
       "23484"
      ]
     },
     "execution_count": 6,
     "metadata": {},
     "output_type": "execute_result"
    }
   ],
   "source": [
    "max(review_count_list)"
   ]
  },
  {
   "cell_type": "code",
   "execution_count": 7,
   "metadata": {
    "collapsed": false
   },
   "outputs": [
    {
     "data": {
      "text/plain": [
       "10"
      ]
     },
     "execution_count": 7,
     "metadata": {},
     "output_type": "execute_result"
    }
   ],
   "source": [
    "min(review_count_list)"
   ]
  },
  {
   "cell_type": "markdown",
   "metadata": {},
   "source": [
    "# 단어 사용 통계"
   ]
  },
  {
   "cell_type": "markdown",
   "metadata": {},
   "source": [
    "## 아이템 별 단어 통계 로드"
   ]
  },
  {
   "cell_type": "code",
   "execution_count": 8,
   "metadata": {
    "collapsed": true
   },
   "outputs": [],
   "source": [
    "with open('./output/item_noun_counter.pickle', 'rb') as fin:\n",
    "    item_noun_counter = pickle.load(fin)\n",
    "    \n",
    "with open('./output/item_verb_counter.pickle', 'rb') as fin:\n",
    "    item_verb_counter = pickle.load(fin)\n",
    "    \n",
    "with open('./output/item_adjective_counter.pickle', 'rb') as fin:\n",
    "    item_adjective_counter = pickle.load(fin)"
   ]
  },
  {
   "cell_type": "markdown",
   "metadata": {},
   "source": [
    "## 전체 단어 통계 계산"
   ]
  },
  {
   "cell_type": "code",
   "execution_count": 24,
   "metadata": {
    "collapsed": false
   },
   "outputs": [],
   "source": [
    "noun_counter = Counter()\n",
    "for _, c in enumerate(item_noun_counter.values()):\n",
    "    noun_counter += c\n",
    "    \n",
    "verb_counter = Counter()\n",
    "for _, c in enumerate(item_verb_counter.values()):\n",
    "    verb_counter += c\n",
    "    \n",
    "adjective_counter = Counter()\n",
    "for _, c in enumerate(item_adjective_counter.values()):\n",
    "    adjective_counter += c"
   ]
  },
  {
   "cell_type": "markdown",
   "metadata": {},
   "source": [
    "## 출현 경향이 일반적인 상황과 현저히 다른 단어 추출 \n",
    "- headphone에서 100번 이상 출현한 단어만 고려\n",
    "- 점수 내림차순으로 정렬"
   ]
  },
  {
   "cell_type": "code",
   "execution_count": 31,
   "metadata": {
    "collapsed": true
   },
   "outputs": [],
   "source": [
    "nlp = English()"
   ]
  },
  {
   "cell_type": "code",
   "execution_count": 46,
   "metadata": {
    "collapsed": false
   },
   "outputs": [],
   "source": [
    "noun_total_count = sum(noun_counter.values())\n",
    "verb_total_count = sum(verb_counter.values())\n",
    "adjective_total_count = sum(adjective_counter.values())"
   ]
  },
  {
   "cell_type": "code",
   "execution_count": 37,
   "metadata": {
    "collapsed": true
   },
   "outputs": [],
   "source": [
    "def noun_score(word):\n",
    "    prob_generic = nlp.vocab[word].prob\n",
    "    prob_headphone = math.log(noun_counter[word] / noun_total_count)\n",
    "    \n",
    "    return (prob_headphone - prob_generic)"
   ]
  },
  {
   "cell_type": "code",
   "execution_count": 47,
   "metadata": {
    "collapsed": true
   },
   "outputs": [],
   "source": [
    "def verb_score(word):\n",
    "    prob_generic = nlp.vocab[word].prob\n",
    "    prob_headphone = math.log(verb_counter[word] / verb_total_count)\n",
    "    \n",
    "    return (prob_headphone - prob_generic)"
   ]
  },
  {
   "cell_type": "code",
   "execution_count": 48,
   "metadata": {
    "collapsed": true
   },
   "outputs": [],
   "source": [
    "def adjective_score(word):\n",
    "    prob_generic = nlp.vocab[word].prob\n",
    "    prob_headphone = math.log(adjective_counter[word] / adjective_total_count)\n",
    "    \n",
    "    return (prob_headphone - prob_generic)"
   ]
  },
  {
   "cell_type": "markdown",
   "metadata": {},
   "source": [
    "### 형용사"
   ]
  },
  {
   "cell_type": "code",
   "execution_count": 61,
   "metadata": {
    "collapsed": false
   },
   "outputs": [
    {
     "name": "stdout",
     "output_type": "stream",
     "text": [
      "the-ear\t10.1864513437\t786\n",
      "circumaural\t9.06861341078\t148\n",
      "skullcandy\t8.71561507002\t286\n",
      "sibilant\t8.44130454899\t147\n",
      "tinny\t8.36388119133\t696\n",
      "foldable\t7.7700201081\t232\n",
      "detachable\t7.67511088889\t993\n",
      "earbud\t7.6530868457\t293\n",
      "treble\t7.52197962322\t1272\n",
      "punchy\t7.49346205337\t460\n",
      "rubberized\t7.31851041395\t148\n",
      "bassy\t7.29367619762\t213\n",
      "crisp\t7.20189771365\t2786\n",
      "muffled\t7.18613264818\t611\n",
      "velour\t7.15417202146\t124\n",
      "aural\t7.04959289411\t199\n",
      "pliable\t6.88580773278\t163\n",
      "snug\t6.86219729901\t833\n",
      "rubbery\t6.83743609411\t297\n",
      "airy\t6.82491303992\t273\n",
      "sturdy\t6.81182597596\t1763\n",
      "durable\t6.74818592869\t2471\n",
      "overpowering\t6.71488505661\t539\n",
      "stylish\t6.68025834413\t971\n",
      "muddy\t6.67284697119\t1114\n",
      "rechargeable\t6.60796125546\t309\n",
      "adjustable\t6.50140857601\t1025\n",
      "lightweight\t6.43907093142\t1369\n",
      "shrill\t6.4330706215\t207\n",
      "portable\t6.41079888909\t2513\n",
      "bluetooth\t6.31630909379\t986\n",
      "flimsy\t6.31534798358\t735\n",
      "retractable\t6.29886929732\t168\n",
      "sleek\t6.28948291113\t508\n",
      "padded\t6.22374659836\t539\n",
      "bulky\t6.14634388458\t896\n",
      "spacious\t6.14415081794\t174\n",
      "defective\t6.09826073718\t663\n",
      "replaceable\t6.07731199743\t455\n",
      "noisy\t6.06831878162\t834\n",
      "comfortable\t5.955954913\t15180\n",
      "3.5mm\t5.94761603109\t132\n",
      "removable\t5.91176338997\t489\n",
      "superb\t5.84952778557\t690\n",
      "orchestral\t5.80078651461\t149\n",
      "audible\t5.77360989462\t429\n",
      "inexpensive\t5.76082764829\t932\n",
      "compact\t5.72207842739\t779\n",
      "rugged\t5.70550064017\t246\n",
      "classical\t5.70184777812\t1611\n",
      "tangled\t5.69645969586\t250\n",
      "tonal\t5.66548178273\t166\n",
      "scratchy\t5.65419036446\t109\n",
      "glossy\t5.53574911082\t215\n",
      "pleased\t5.51010471982\t1345\n",
      "acoustic\t5.48896354633\t659\n",
      "audio\t5.39316828937\t3894\n",
      "wireless\t5.37787051923\t1607\n",
      "terrific\t5.30930995805\t340\n",
      "outstanding\t5.28003159179\t685\n",
      "midrange\t5.27975454627\t247\n",
      "plush\t5.24020749521\t117\n",
      "excellent\t5.19619944564\t5057\n",
      "oval\t5.17066839668\t134\n",
      "booming\t5.16771315814\t153\n",
      "earbuds\t5.16341130065\t158\n",
      "comfy\t5.14500778929\t557\n",
      "waterproof\t5.12840830561\t282\n",
      "soft\t5.12241931627\t3060\n",
      "loud\t5.10878556769\t4175\n",
      "vibrant\t5.10579405963\t231\n",
      "metallic\t5.10207063065\t218\n",
      "overbearing\t5.06037371068\t125\n",
      "elliptical\t5.04632075328\t106\n",
      "exceptional\t5.04183660032\t444\n",
      "balanced\t5.03583085803\t1936\n",
      "resistant\t5.03450489356\t513\n",
      "lively\t5.01732485487\t131\n",
      "satisfactory\t5.00871766154\t154\n",
      "uncomfortable\t5.00568493307\t2835\n",
      "stereo\t5.00431200607\t460\n",
      "stiff\t4.98300985229\t456\n",
      "interchangeable\t4.96625782588\t217\n",
      "fragile\t4.95431667717\t446\n",
      "sonic\t4.95091562196\t277\n",
      "pleasing\t4.94879246964\t371\n",
      "adequate\t4.92713466443\t551\n",
      "flexible\t4.91394588497\t737\n",
      "analytical\t4.9066155994\t147\n",
      "picky\t4.88638350946\t552\n",
      "tight\t4.88162294367\t2568\n",
      "sweaty\t4.87202321308\t361\n",
      "satisfied\t4.867697608\t995\n",
      "complimentary\t4.86739687239\t114\n",
      "noticeable\t4.83649498016\t969\n",
      "sound\t4.82984738488\t15155\n",
      "impressed\t4.82288335869\t1813\n",
      "unbiased\t4.80840398986\t342\n",
      "affordable\t4.80794610141\t709\n",
      "muted\t4.784901151\t204\n"
     ]
    }
   ],
   "source": [
    "target_adjectives = [w for (w, c) in adjective_counter.most_common() if c >= 100]\n",
    "target_adjectives_with_score = sorted([(word, adjective_score(word), adjective_counter[word]) for word in target_adjectives], key=lambda item: item[1], reverse=True)\n",
    "\n",
    "for w, score, raw_count in target_adjectives_with_score[:100]:\n",
    "    print('%s\\t%s\\t%s' % (w, score, raw_count))"
   ]
  },
  {
   "cell_type": "markdown",
   "metadata": {},
   "source": [
    "### 동사"
   ]
  },
  {
   "cell_type": "code",
   "execution_count": 62,
   "metadata": {
    "collapsed": false
   },
   "outputs": [
    {
     "name": "stdout",
     "output_type": "stream",
     "text": [
      "tangle\t8.3103264372\t603\n",
      "untangle\t7.58334256075\t165\n",
      "distort\t6.13106991266\t194\n",
      "overpower\t5.70226509443\t119\n",
      "isolate\t5.70155388322\t278\n",
      "disturb\t5.69198906845\t149\n",
      "fold\t5.65951001265\t804\n",
      "drown\t5.64609740754\t485\n",
      "earbuds\t5.58434479872\t130\n",
      "adjust\t5.5810265543\t1569\n",
      "loosen\t5.47267819856\t173\n",
      "withstand\t5.41945614209\t182\n",
      "crank\t5.36420961939\t294\n",
      "recharge\t5.16397724304\t153\n",
      "listen\t5.14154119591\t5074\n",
      "beware\t5.11579639783\t119\n",
      "disappoint\t5.05710214471\t284\n",
      "pause\t4.99910852334\t462\n",
      "plug\t4.97466223304\t1040\n",
      "surround\t4.96486413491\t217\n",
      "wear\t4.95271711988\t4774\n",
      "hear\t4.90680001504\t9254\n",
      "slip\t4.82630238496\t574\n",
      "replace\t4.78691708343\t1891\n",
      "customize\t4.78451064731\t132\n",
      "recommend\t4.76979642914\t4658\n",
      "connect\t4.7353149212\t918\n",
      "attach\t4.71483783412\t244\n",
      "reproduce\t4.66528441307\t215\n",
      "deliver\t4.65546888938\t598\n",
      "compare\t4.63131497907\t1422\n",
      "skip\t4.63015899028\t789\n",
      "fit\t4.58615694654\t4104\n",
      "seal\t4.58431867589\t300\n",
      "emphasize\t4.52065541522\t140\n",
      "cancel\t4.46470973404\t363\n",
      "leak\t4.45519973134\t281\n",
      "purchase\t4.41851972376\t1161\n",
      "sound\t4.36475856808\t5141\n",
      "fall\t4.35928747353\t2395\n",
      "bend\t4.33842024957\t287\n",
      "hesitate\t4.33007775077\t167\n",
      "interfere\t4.31386131869\t127\n",
      "accommodate\t4.28487559888\t116\n",
      "disconnect\t4.27902998959\t123\n",
      "block\t4.27469014595\t1362\n",
      "satisfy\t4.26561367936\t149\n",
      "impress\t4.26465193094\t155\n",
      "slide\t4.23783298035\t416\n",
      "snap\t4.18862945002\t317\n",
      "evaluate\t4.13348487522\t132\n",
      "squeeze\t4.08917936163\t163\n",
      "insert\t4.08222378904\t268\n",
      "stay\t4.07724877587\t2910\n",
      "mute\t4.07319644274\t125\n",
      "shine\t4.04552434899\t154\n",
      "wrap\t4.03373036185\t302\n",
      "rotate\t4.02900702421\t120\n",
      "extend\t4.01610124112\t201\n",
      "concentrate\t3.98332874746\t109\n",
      "buy\t3.97130836638\t5959\n",
      "distinguish\t3.93226827355\t136\n",
      "return\t3.93107715871\t1216\n",
      "expect\t3.90772253212\t2131\n",
      "produce\t3.90670697997\t623\n",
      "notice\t3.90662058691\t1374\n",
      "vary\t3.88272670282\t226\n",
      "sweat\t3.87020435896\t219\n",
      "eliminate\t3.85816059836\t167\n",
      "bleed\t3.80851885616\t111\n",
      "reduce\t3.80714690507\t434\n",
      "break\t3.78120515779\t2127\n",
      "tolerate\t3.76728244705\t104\n",
      "hold\t3.73296221753\t1855\n",
      "clip\t3.72358455349\t286\n",
      "pair\t3.72031182147\t618\n",
      "charge\t3.69061757954\t900\n",
      "bother\t3.68501949592\t729\n",
      "activate\t3.6579401549\t105\n",
      "regret\t3.65604184819\t353\n",
      "provide\t3.61865020956\t1070\n",
      "describe\t3.61468721036\t474\n",
      "spend\t3.59007719372\t1661\n",
      "receive\t3.58388777476\t412\n",
      "turn\t3.56876212275\t2394\n",
      "complain\t3.55543396304\t466\n",
      "operate\t3.54540399795\t162\n",
      "sync\t3.50671073084\t103\n",
      "update\t3.50590877404\t676\n",
      "compete\t3.50128689375\t219\n",
      "hurt\t3.48667294571\t1137\n",
      "sum\t3.46546691941\t142\n",
      "perform\t3.45822862103\t264\n",
      "invest\t3.4563436185\t222\n",
      "note\t3.44551046258\t918\n",
      "burn\t3.40642942709\t443\n",
      "review\t3.36752941725\t411\n",
      "use\t3.36744234559\t9397\n",
      "press\t3.35713050714\t442\n",
      "test\t3.35247234072\t1018\n"
     ]
    }
   ],
   "source": [
    "target_verbs = [w for (w, c) in verb_counter.most_common() if c >= 100]\n",
    "target_verbs_with_score = sorted([(word, verb_score(word), verb_counter[word]) for word in target_verbs], key=lambda item: item[1], reverse=True)\n",
    "\n",
    "for w, score, raw_count in target_verbs_with_score[:100]:\n",
    "    print('%s\\t%s\\t%s' % (w, score, raw_count))"
   ]
  },
  {
   "cell_type": "markdown",
   "metadata": {},
   "source": [
    "### 명사"
   ]
  },
  {
   "cell_type": "code",
   "execution_count": 63,
   "metadata": {
    "collapsed": false
   },
   "outputs": [
    {
     "name": "stdout",
     "output_type": "stream",
     "text": [
      "earcup\t9.68878237715\t324\n",
      "earphone\t9.54631687582\t1828\n",
      "hesh\t9.39204076977\t195\n",
      "earbud\t9.27550963483\t2634\n",
      "the-ear\t9.01887560126\t434\n",
      "skullcandy\t8.48241186367\t402\n",
      "sibilance\t8.40552281725\t335\n",
      "boomy\t8.33843284322\t520\n",
      "soundstage\t8.29129944839\t1811\n",
      "earpiece\t8.28150399891\t1202\n",
      "headphone\t8.22745256605\t12215\n",
      "multifunction\t8.20385658712\t188\n",
      "headband\t8.17660769423\t3560\n",
      "audiophile\t8.14410568011\t3348\n",
      "pause/play\t8.10000017291\t114\n",
      "basshead\t7.93461255847\t152\n",
      "khz\t7.93385324235\t111\n",
      "play/pause\t7.86941173335\t246\n",
      "earplug\t7.73005156902\t109\n",
      "treble\t7.72476630912\t2765\n",
      "klipsch\t7.69770533546\t142\n",
      "tangle\t7.66476566678\t1039\n",
      "bose\t7.64414188605\t384\n",
      "cord\t7.46724710017\t12911\n",
      "pleather\t7.45711726834\t240\n",
      "ear\t7.39828972194\t38756\n",
      "earbuds\t7.28463155006\t2339\n",
      "bass\t7.27577586476\t29311\n",
      "headset\t7.15631609335\t7778\n",
      "cancellation\t7.09161259115\t1828\n",
      "sennheiser\t7.08799925499\t258\n",
      "armature\t6.98942505752\t154\n",
      "the-go\t6.95023116798\t147\n",
      "tangling\t6.926995433\t135\n",
      "cancelation\t6.91610593413\t139\n",
      "equalizer\t6.91289189622\t827\n",
      "winder\t6.73851822334\t133\n",
      "microphone\t6.66022935313\t3450\n",
      "flange\t6.5809991987\t290\n",
      "fitment\t6.57780901192\t125\n",
      "drawstring\t6.56541040392\t123\n",
      "armband\t6.555601266\t243\n",
      "leakage\t6.54455354935\t587\n",
      "bassy\t6.52920454279\t176\n",
      "isolation\t6.48556596439\t3162\n",
      "equalization\t6.48240306186\t182\n",
      "canal\t6.44487440247\t1745\n",
      "bluetooth\t6.41115088626\t1924\n",
      "velour\t6.40461787085\t104\n",
      "moda\t6.39965990038\t123\n",
      "hiss\t6.39114990858\t499\n",
      "mp3\t6.37590863007\t1860\n",
      "pouch\t6.34921875963\t1167\n",
      "midrange\t6.33318593408\t1257\n",
      "transmitter\t6.29677950254\t671\n",
      "silicone\t6.21483298261\t1280\n",
      "shure\t6.21068863852\t159\n",
      "cushioning\t6.18256545905\t149\n",
      "ipod\t6.17776056447\t1304\n",
      "dre\t6.1503365445\t155\n",
      "noise\t6.1439210888\t16412\n",
      "amplifier\t6.11772636788\t635\n",
      "durability\t6.11742382348\t1655\n",
      "padding\t6.07382222928\t1374\n",
      "volume\t6.0517293016\t13316\n",
      "swivel\t6.04732779312\t289\n",
      "impedance\t6.01116108823\t422\n",
      "pair\t5.98171996973\t19488\n",
      "tonality\t5.95491465429\t104\n",
      "portability\t5.92525522762\t448\n",
      "eq\t5.81555643916\t336\n",
      "amplification\t5.78886950027\t178\n",
      "clarity\t5.78745379854\t2719\n",
      "foam\t5.73871544849\t2432\n",
      "usb\t5.73569537764\t1590\n",
      "packaging\t5.72145909246\t1895\n",
      "adjuster\t5.70891734815\t138\n",
      "harshness\t5.6761029413\t145\n",
      "fidelity\t5.64463766524\t490\n",
      "distortion\t5.60558382006\t1057\n",
      "cushion\t5.59870255121\t590\n",
      "thump\t5.59417453477\t199\n",
      "noggin\t5.57236759663\t107\n",
      "inline\t5.56569896159\t567\n",
      "cable\t5.56293940289\t10117\n",
      "stereo\t5.55571927213\t1417\n",
      "40mm\t5.54897757292\t144\n",
      "ambient\t5.54767957417\t1080\n",
      "reviewer\t5.53657064849\t534\n",
      "richness\t5.51858625169\t111\n",
      "adaptor\t5.49961778218\t160\n",
      "3.5mm\t5.48836289812\t148\n",
      "subwoofer\t5.4498321765\t192\n",
      "kbps\t5.44226067067\t107\n",
      "discomfort\t5.44040403157\t1084\n",
      "loudness\t5.4389263289\t148\n",
      "reproduction\t5.43789318568\t874\n",
      "comfort\t5.42960959294\t4605\n",
      "splitter\t5.41462582464\t216\n",
      "mic\t5.40892700297\t3579\n"
     ]
    }
   ],
   "source": [
    "target_nouns = [w for (w, c) in noun_counter.most_common() if c >= 100]\n",
    "target_nouns_with_score = sorted([(word, noun_score(word), noun_counter[word]) for word in target_nouns], key=lambda item: item[1], reverse=True)\n",
    "\n",
    "for w, score, raw_count in target_nouns_with_score[:100]:\n",
    "    print('%s\\t%s\\t%s' % (w, score, raw_count))"
   ]
  }
 ],
 "metadata": {
  "kernelspec": {
   "display_name": "Python 2",
   "language": "python",
   "name": "python2"
  },
  "language_info": {
   "codemirror_mode": {
    "name": "ipython",
    "version": 2
   },
   "file_extension": ".py",
   "mimetype": "text/x-python",
   "name": "python",
   "nbconvert_exporter": "python",
   "pygments_lexer": "ipython2",
   "version": "2.7.10"
  }
 },
 "nbformat": 4,
 "nbformat_minor": 0
}
