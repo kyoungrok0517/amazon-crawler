{
 "cells": [
  {
   "cell_type": "code",
   "execution_count": 22,
   "metadata": {
    "collapsed": true
   },
   "outputs": [],
   "source": [
    "from __future__ import print_function\n",
    "from __future__ import unicode_literals\n",
    "import codecs\n",
    "import json\n",
    "from pprint import pprint\n",
    "import pandas as pd"
   ]
  },
  {
   "cell_type": "markdown",
   "metadata": {},
   "source": [
    "# Load the data"
   ]
  },
  {
   "cell_type": "code",
   "execution_count": 7,
   "metadata": {
    "collapsed": false
   },
   "outputs": [],
   "source": [
    "def convert_review_count_to_int(rc_str):\n",
    "    if type(rc_str) == int:\n",
    "        return rc_str\n",
    "    elif type(rc_str) == str or type(rc_str) == unicode:\n",
    "        return int(rc_str.replace(',', ''))\n",
    "    else:\n",
    "        raise TypeError(\"review_count must be string or int. Received: %s\", type(rc_str))"
   ]
  },
  {
   "cell_type": "code",
   "execution_count": 19,
   "metadata": {
    "collapsed": true
   },
   "outputs": [],
   "source": [
    "def join_review_text(text):\n",
    "    if type(text) == list:\n",
    "        return \" \".join(text)\n",
    "    elif type(text) == str:\n",
    "        return text\n",
    "    else:\n",
    "        raise TypeError(\"review_text must be list or string. Received: %s\", type(text))"
   ]
  },
  {
   "cell_type": "code",
   "execution_count": 41,
   "metadata": {
    "collapsed": false
   },
   "outputs": [],
   "source": [
    "item_details = [] # link로 title 받아오기 용\n",
    "item_reviews = []\n",
    "\n",
    "with codecs.open('data/headphone.json', 'r', 'utf-8-sig') as fin:\n",
    "    for i, line in enumerate(fin):\n",
    "        obj = json.loads(line)\n",
    "        item_type = obj['item_type']\n",
    "        \n",
    "        # detail\n",
    "        if item_type == 'detail':\n",
    "            item_detail = {}\n",
    "            item_detail['title'] = obj['title'].strip()\n",
    "            item_detail['link'] = obj['link']\n",
    "#             item_detail['review_count'] = convert_review_count_to_int(obj['review_count'])\n",
    "            item_details.append(item_detail)\n",
    "            \n",
    "        # review\n",
    "        if item_type == 'review':\n",
    "            item_review = {}\n",
    "            item_review['title'] = obj['title'].strip()\n",
    "            item_review['link'] = obj['item_link']\n",
    "            item_review['text'] = join_review_text(obj['text'])\n",
    "            item_reviews.append(item_review)\n",
    "            \n",
    "df_detail = pd.DataFrame(item_details).set_index(\"link\")\n",
    "df_review = pd.DataFrame(item_reviews).set_index(\"link\")\n",
    "df_result = df_detail.join(df_review, rsuffix='_review')"
   ]
  },
  {
   "cell_type": "code",
   "execution_count": 42,
   "metadata": {
    "collapsed": false
   },
   "outputs": [],
   "source": [
    "df_result.to_csv('result.csv', encoding='utf-8')"
   ]
  }
 ],
 "metadata": {
  "kernelspec": {
   "display_name": "Python 2",
   "language": "python",
   "name": "python2"
  },
  "language_info": {
   "codemirror_mode": {
    "name": "ipython",
    "version": 2
   },
   "file_extension": ".py",
   "mimetype": "text/x-python",
   "name": "python",
   "nbconvert_exporter": "python",
   "pygments_lexer": "ipython2",
   "version": "2.7.9"
  }
 },
 "nbformat": 4,
 "nbformat_minor": 0
}
