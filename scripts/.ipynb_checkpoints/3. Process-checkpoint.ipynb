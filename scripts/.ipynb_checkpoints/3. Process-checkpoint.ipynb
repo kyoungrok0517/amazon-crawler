{
 "cells": [
  {
   "cell_type": "code",
   "execution_count": 14,
   "metadata": {
    "collapsed": true
   },
   "outputs": [],
   "source": [
    "from __future__ import unicode_literals\n",
    "from pymongo import MongoClient\n",
    "from pprint import pprint\n",
    "import re\n",
    "from collections import defaultdict, Counter\n",
    "import cPickle as pickle"
   ]
  },
  {
   "cell_type": "markdown",
   "metadata": {},
   "source": [
    "# 데이터 로드"
   ]
  },
  {
   "cell_type": "code",
   "execution_count": 5,
   "metadata": {
    "collapsed": true
   },
   "outputs": [],
   "source": [
    "client = MongoClient()\n",
    "db = client['amazon']\n",
    "collection = db['headphone_merged']"
   ]
  },
  {
   "cell_type": "markdown",
   "metadata": {},
   "source": [
    "# 처리 & DB 업데이트"
   ]
  },
  {
   "cell_type": "code",
   "execution_count": 6,
   "metadata": {
    "collapsed": false
   },
   "outputs": [],
   "source": [
    "import spacy.en\n",
    "from spacy.parts_of_speech import ADV\n",
    "\n",
    "# Load the pipeline, and call it with some text.\n",
    "nlp = spacy.en.English()"
   ]
  },
  {
   "cell_type": "markdown",
   "metadata": {},
   "source": [
    "# JJ, NN, VB"
   ]
  },
  {
   "cell_type": "code",
   "execution_count": 7,
   "metadata": {
    "collapsed": true
   },
   "outputs": [],
   "source": [
    "client = MongoClient()\n",
    "db = client['amazon']\n",
    "collection = db['headphone_merged']"
   ]
  },
  {
   "cell_type": "code",
   "execution_count": 8,
   "metadata": {
    "collapsed": false
   },
   "outputs": [],
   "source": [
    "docs = list(collection.find(projection=('title_item', 'text', 'features', 'review_count', 'helpful_vote_count')))"
   ]
  },
  {
   "cell_type": "code",
   "execution_count": 9,
   "metadata": {
    "collapsed": false
   },
   "outputs": [
    {
     "data": {
      "text/plain": [
       "43942"
      ]
     },
     "execution_count": 9,
     "metadata": {},
     "output_type": "execute_result"
    }
   ],
   "source": [
    "len(docs)"
   ]
  },
  {
   "cell_type": "code",
   "execution_count": 11,
   "metadata": {
    "collapsed": false,
    "scrolled": true
   },
   "outputs": [],
   "source": [
    "item_noun_counter = defaultdict(Counter)\n",
    "item_verb_counter = defaultdict(Counter)\n",
    "item_adjective_counter = defaultdict(Counter)\n",
    "\n",
    "for doc in docs:\n",
    "    tokens = nlp(doc['text'])\n",
    "    nouns = [tok.lemma_ for tok in tokens if tok.tag_ == 'NN' if tok.lemma_.strip()]\n",
    "    adjectives = [tok.lemma_ for tok in tokens if tok.tag_ == 'JJ' if tok.lemma_.strip()]\n",
    "    verbs = [tok.lemma_ for tok in tokens if tok.tag_ == 'VB' if tok.lemma_.strip()]\n",
    "    \n",
    "    item = doc['title_item']\n",
    "    item_noun_counter[item] += Counter(nouns)\n",
    "    item_verb_counter[item] += Counter(verbs)\n",
    "    item_adjective_counter[item] += Counter(adjectives)"
   ]
  },
  {
   "cell_type": "code",
   "execution_count": null,
   "metadata": {
    "collapsed": false
   },
   "outputs": [],
   "source": [
    "with open('./item_noun_counter.pickle', 'wb') as fout:\n",
    "    pickle.dump(item_noun_counter, fout, pickle.HIGHEST_PROTOCOL)\n",
    "    \n",
    "with open('./item_verb_counter.pickle', 'wb') as fout:\n",
    "    pickle.dump(item_verb_counter, fout, pickle.HIGHEST_PROTOCOL)\n",
    "    \n",
    "with open('./item_adjective_counter.pickle', 'wb') as fout:\n",
    "    pickle.dump(item_adjective_counter, fout, pickle.HIGHEST_PROTOCOL)"
   ]
  },
  {
   "cell_type": "markdown",
   "metadata": {},
   "source": [
    "---\n",
    "\n",
    "# 참고\n",
    "## POS 태그셋\n",
    "\n",
    "```\n",
    "POS_TAGS = {\n",
    "    'NULL': (NO_TAG, {}),\n",
    "    'EOL': (EOL, {}),\n",
    "    'CC': (CONJ, {}),\n",
    "    'CD': (NUM, {}),\n",
    "    'DT': (DET, {}),\n",
    "    'EX': (DET, {}),\n",
    "    'FW': (X, {}),\n",
    "    'IN': (ADP, {}),\n",
    "    'JJ': (ADJ, {}),\n",
    "    'JJR': (ADJ, {'misc': COMPARATIVE}),\n",
    "    'JJS': (ADJ, {'misc': SUPERLATIVE}),\n",
    "    'LS': (X, {}),\n",
    "    'MD': (VERB, {'tenspect': MODAL}),\n",
    "    'NN': (NOUN, {}),\n",
    "    'NNS': (NOUN, {'number': PLURAL}),\n",
    "    'NNP': (NOUN, {'misc': NAME}),\n",
    "    'NNPS': (NOUN, {'misc': NAME, 'number': PLURAL}),\n",
    "    'PDT': (DET, {}),\n",
    "    'POS': (PRT, {'case': GENITIVE}),\n",
    "    'PRP': (PRON, {}),\n",
    "    'PRP$': (PRON, {'case': GENITIVE}),\n",
    "    'RB': (ADV, {}),\n",
    "    'RBR': (ADV, {'misc': COMPARATIVE}),\n",
    "    'RBS': (ADV, {'misc': SUPERLATIVE}),\n",
    "    'RP': (PRT, {}),\n",
    "    'SYM': (X, {}),\n",
    "    'TO': (PRT, {}),\n",
    "    'UH': (X, {}),\n",
    "    'VB': (VERB, {}),\n",
    "    'VBD': (VERB, {'tenspect': PAST}),\n",
    "    'VBG': (VERB, {'tenspect': ING}),\n",
    "    'VBN': (VERB, {'tenspect': PASSIVE}),\n",
    "    'VBP': (VERB, {'tenspect': PRESENT}),\n",
    "    'VBZ': (VERB, {'tenspect': PRESENT, 'person': THIRD}),\n",
    "    'WDT': (DET, {'misc': RELATIVE}),\n",
    "    'WP': (PRON, {'misc': RELATIVE}),\n",
    "    'WP$': (PRON, {'misc': RELATIVE, 'case': GENITIVE}),\n",
    "    'WRB': (ADV, {'misc': RELATIVE}),\n",
    "    '!': (PUNCT, {}),\n",
    "    '#': (PUNCT, {}),\n",
    "    '$': (PUNCT, {}),\n",
    "    \"''\": (PUNCT, {}),\n",
    "    \"(\": (PUNCT, {}),\n",
    "    \")\": (PUNCT, {}),\n",
    "    \"-LRB-\": (PUNCT, {}),\n",
    "    \"-RRB-\": (PUNCT, {}),\n",
    "    \".\": (PUNCT, {}),\n",
    "    \",\": (PUNCT, {}),\n",
    "    \"``\": (PUNCT, {}),\n",
    "    \":\": (PUNCT, {}),\n",
    "    \"?\": (PUNCT, {}),\n",
    "    \"ADD\": (X, {}),\n",
    "    \"NFP\": (PUNCT, {}),\n",
    "    \"GW\": (X, {}),\n",
    "    \"AFX\": (X, {}),\n",
    "    \"HYPH\": (PUNCT, {}),\n",
    "    \"XX\": (X, {}),\n",
    "    \"BES\": (VERB, {'tenspect': PRESENT, 'person': THIRD}),\n",
    "    \"HVS\": (VERB, {'tenspect': PRESENT, 'person': THIRD}),\n",
    "    \"SP\": (SPACE, {})\n",
    "}\n",
    "```"
   ]
  }
 ],
 "metadata": {
  "kernelspec": {
   "display_name": "Python 2",
   "language": "python",
   "name": "python2"
  },
  "language_info": {
   "codemirror_mode": {
    "name": "ipython",
    "version": 2
   },
   "file_extension": ".py",
   "mimetype": "text/x-python",
   "name": "python",
   "nbconvert_exporter": "python",
   "pygments_lexer": "ipython2",
   "version": "2.7.10"
  }
 },
 "nbformat": 4,
 "nbformat_minor": 0
}
