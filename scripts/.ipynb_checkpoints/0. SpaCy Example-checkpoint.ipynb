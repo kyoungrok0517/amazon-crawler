{
 "cells": [
  {
   "cell_type": "markdown",
   "metadata": {},
   "source": [
    "# Load resources and process text"
   ]
  },
  {
   "cell_type": "code",
   "execution_count": 1,
   "metadata": {
    "collapsed": true
   },
   "outputs": [],
   "source": [
    "from __future__ import unicode_literals, print_function\n",
    "from spacy.en import English\n",
    "nlp = English()\n",
    "doc = nlp('Hello, world. here are two sentences.')"
   ]
  },
  {
   "cell_type": "markdown",
   "metadata": {},
   "source": [
    "# Get tokens and sentences"
   ]
  },
  {
   "cell_type": "code",
   "execution_count": 2,
   "metadata": {
    "collapsed": true
   },
   "outputs": [],
   "source": [
    "token = doc[0]\n",
    "sentence = doc.sents.next()\n",
    "assert token is sentence[0]"
   ]
  },
  {
   "cell_type": "markdown",
   "metadata": {},
   "source": [
    "# Use integer IDs for any string"
   ]
  },
  {
   "cell_type": "code",
   "execution_count": 6,
   "metadata": {
    "collapsed": false
   },
   "outputs": [],
   "source": [
    "hello_id = nlp.vocab.strings['Hello']\n",
    "hello_str = nlp.vocab.strings[hello_id]\n",
    "\n",
    "# assert token.orth == hello_id == 469755"
   ]
  },
  {
   "cell_type": "markdown",
   "metadata": {},
   "source": [
    "# Word vectors"
   ]
  },
  {
   "cell_type": "code",
   "execution_count": 12,
   "metadata": {
    "collapsed": true
   },
   "outputs": [],
   "source": [
    "doc = nlp(\"Apples and oranges are similar. Boots and hippos aren't.\")\n",
    "\n",
    "apples = doc[0]\n",
    "oranges = doc[1]\n",
    "boots = doc[6]\n",
    "hippos = doc[8]\n",
    "\n",
    "# assert apples.similarity(oranges) > boots.similarity(hippos)"
   ]
  },
  {
   "cell_type": "markdown",
   "metadata": {},
   "source": [
    "# Syntactic dependencies"
   ]
  },
  {
   "cell_type": "code",
   "execution_count": 13,
   "metadata": {
    "collapsed": true
   },
   "outputs": [],
   "source": [
    "def dependency_labels_to_root(token):\n",
    "    '''Walk up the syntactic tree, collecting the arc labels.'''\n",
    "    dep_labels = []\n",
    "    while token.head is not token:\n",
    "        dep_labels.append(token.dep)\n",
    "        token = token.head\n",
    "    return dep_labels"
   ]
  },
  {
   "cell_type": "markdown",
   "metadata": {},
   "source": [
    "# Named entities"
   ]
  },
  {
   "cell_type": "code",
   "execution_count": 15,
   "metadata": {
    "collapsed": true
   },
   "outputs": [],
   "source": [
    "def iter_products(docs):\n",
    "    for doc in docs:\n",
    "        for ent in doc.ents:\n",
    "            if ent.label_ == 'PRODUCT':\n",
    "                yield ent\n",
    " \n",
    "def word_is_in_entity(word):\n",
    "    return word.ent_type != 0\n",
    " \n",
    "def count_parent_verb_by_person(docs):\n",
    "    counts = defaultdict(defaultdict(int))\n",
    "    for doc in docs:\n",
    "        for ent in doc.ents:\n",
    "            if ent.label_ == 'PERSON' and ent.root.head.pos == VERB:\n",
    "                counts[ent.orth_][ent.root.head.lemma_] += 1\n",
    "    return counts"
   ]
  },
  {
   "cell_type": "markdown",
   "metadata": {},
   "source": [
    "# Calculate inline mark-up on original string"
   ]
  },
  {
   "cell_type": "code",
   "execution_count": 16,
   "metadata": {
    "collapsed": true
   },
   "outputs": [],
   "source": [
    "def put_spans_around_tokens(doc, get_classes):\n",
    "    '''Given some function to compute class names, put each token in a\n",
    "    span element, with the appropriate classes computed.\n",
    " \n",
    "    All whitespace is preserved, outside of the spans. (Yes, I know HTML\n",
    "    won't display it. But the point is no information is lost, so you can\n",
    "    calculate what you need, e.g. <br /> tags, <p> tags, etc.)\n",
    "    '''\n",
    "    output = []\n",
    "    template = '<span classes=\"{classes}\">{word}</span>{space}'\n",
    "    for token in doc:\n",
    "        if token.is_space:\n",
    "            output.append(token.orth_)\n",
    "        else:\n",
    "            output.append(\n",
    "              template.format(\n",
    "                classes=' '.join(get_classes(token)),\n",
    "                word=token.orth_,\n",
    "                space=token.whitespace_))\n",
    "    string = ''.join(output)\n",
    "    string = string.replace('\\n', '')\n",
    "    string = string.replace('\\t', '    ')\n",
    "    return string"
   ]
  },
  {
   "cell_type": "markdown",
   "metadata": {},
   "source": [
    "# Efficient binary serialization"
   ]
  },
  {
   "cell_type": "code",
   "execution_count": null,
   "metadata": {
    "collapsed": true
   },
   "outputs": [],
   "source": [
    "byte_string = doc.as_bytes()\n",
    "open('/tmp/moby_dick.bin', 'wb').write(byte_string)\n",
    "\n",
    "nlp = spacy.en.English()\n",
    "for byte_string in Doc.read(open('/tmp/moby_dick.bin', 'rb')):\n",
    "    doc = Doc(nlp.vocab)\n",
    "    doc.from_bytes(byte_string)"
   ]
  }
 ],
 "metadata": {
  "kernelspec": {
   "display_name": "Python 2",
   "language": "python",
   "name": "python2"
  },
  "language_info": {
   "codemirror_mode": {
    "name": "ipython",
    "version": 2
   },
   "file_extension": ".py",
   "mimetype": "text/x-python",
   "name": "python",
   "nbconvert_exporter": "python",
   "pygments_lexer": "ipython2",
   "version": "2.7.10"
  }
 },
 "nbformat": 4,
 "nbformat_minor": 0
}
