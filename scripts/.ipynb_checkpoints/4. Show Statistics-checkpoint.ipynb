{
 "cells": [
  {
   "cell_type": "code",
   "execution_count": 43,
   "metadata": {
    "collapsed": false
   },
   "outputs": [],
   "source": [
    "from __future__ import print_function, unicode_literals, division\n",
    "import cPickle as pickle\n",
    "from pprint import pprint\n",
    "from pymongo import MongoClient\n",
    "import numpy as np\n",
    "from collections import Counter\n",
    "from spacy.en import English\n",
    "import math\n",
    "from pprint import pprint"
   ]
  },
  {
   "cell_type": "markdown",
   "metadata": {},
   "source": [
    "# 데이터 통계"
   ]
  },
  {
   "cell_type": "code",
   "execution_count": 2,
   "metadata": {
    "collapsed": false
   },
   "outputs": [],
   "source": [
    "client = MongoClient()\n",
    "db = client['amazon']\n",
    "headphones = list(db['headphone_detail'].find())"
   ]
  },
  {
   "cell_type": "code",
   "execution_count": 3,
   "metadata": {
    "collapsed": false
   },
   "outputs": [],
   "source": [
    "review_count_list = np.array([h['review_count'] for h in headphones])"
   ]
  },
  {
   "cell_type": "markdown",
   "metadata": {},
   "source": [
    "## Mean"
   ]
  },
  {
   "cell_type": "code",
   "execution_count": 4,
   "metadata": {
    "collapsed": false
   },
   "outputs": [
    {
     "data": {
      "text/plain": [
       "344.20022350530826"
      ]
     },
     "execution_count": 4,
     "metadata": {},
     "output_type": "execute_result"
    }
   ],
   "source": [
    "np.mean(review_count_list)"
   ]
  },
  {
   "cell_type": "markdown",
   "metadata": {},
   "source": [
    "## Median"
   ]
  },
  {
   "cell_type": "code",
   "execution_count": 5,
   "metadata": {
    "collapsed": false
   },
   "outputs": [
    {
     "data": {
      "text/plain": [
       "66.0"
      ]
     },
     "execution_count": 5,
     "metadata": {},
     "output_type": "execute_result"
    }
   ],
   "source": [
    "np.median(review_count_list)"
   ]
  },
  {
   "cell_type": "markdown",
   "metadata": {},
   "source": [
    "## Max, Min"
   ]
  },
  {
   "cell_type": "code",
   "execution_count": 6,
   "metadata": {
    "collapsed": false
   },
   "outputs": [
    {
     "data": {
      "text/plain": [
       "23484"
      ]
     },
     "execution_count": 6,
     "metadata": {},
     "output_type": "execute_result"
    }
   ],
   "source": [
    "max(review_count_list)"
   ]
  },
  {
   "cell_type": "code",
   "execution_count": 7,
   "metadata": {
    "collapsed": false
   },
   "outputs": [
    {
     "data": {
      "text/plain": [
       "10"
      ]
     },
     "execution_count": 7,
     "metadata": {},
     "output_type": "execute_result"
    }
   ],
   "source": [
    "min(review_count_list)"
   ]
  },
  {
   "cell_type": "markdown",
   "metadata": {},
   "source": [
    "# 단어 사용 통계"
   ]
  },
  {
   "cell_type": "markdown",
   "metadata": {},
   "source": [
    "## 아이템 별 단어 통계 로드"
   ]
  },
  {
   "cell_type": "code",
   "execution_count": 8,
   "metadata": {
    "collapsed": true
   },
   "outputs": [],
   "source": [
    "with open('./output/item_noun_counter.pickle', 'rb') as fin:\n",
    "    item_noun_counter = pickle.load(fin)\n",
    "    \n",
    "with open('./output/item_verb_counter.pickle', 'rb') as fin:\n",
    "    item_verb_counter = pickle.load(fin)\n",
    "    \n",
    "with open('./output/item_adjective_counter.pickle', 'rb') as fin:\n",
    "    item_adjective_counter = pickle.load(fin)"
   ]
  },
  {
   "cell_type": "markdown",
   "metadata": {},
   "source": [
    "## 전체 단어 통계 계산"
   ]
  },
  {
   "cell_type": "code",
   "execution_count": 24,
   "metadata": {
    "collapsed": false
   },
   "outputs": [],
   "source": [
    "noun_counter = Counter()\n",
    "for _, c in enumerate(item_noun_counter.values()):\n",
    "    noun_counter += c\n",
    "    \n",
    "verb_counter = Counter()\n",
    "for _, c in enumerate(item_verb_counter.values()):\n",
    "    verb_counter += c\n",
    "    \n",
    "adjective_counter = Counter()\n",
    "for _, c in enumerate(item_adjective_counter.values()):\n",
    "    adjective_counter += c"
   ]
  },
  {
   "cell_type": "markdown",
   "metadata": {},
   "source": [
    "## 출현 경향이 일반적인 상황과 현저히 다른 단어 추출 \n",
    "- headphone에서 100번 이상 출현한 단어만 고려\n",
    "- 점수 내림차순으로 정렬"
   ]
  },
  {
   "cell_type": "code",
   "execution_count": 31,
   "metadata": {
    "collapsed": true
   },
   "outputs": [],
   "source": [
    "nlp = English()"
   ]
  },
  {
   "cell_type": "code",
   "execution_count": 46,
   "metadata": {
    "collapsed": false
   },
   "outputs": [],
   "source": [
    "noun_total_count = sum(noun_counter.values())\n",
    "verb_total_count = sum(verb_counter.values())\n",
    "adjective_total_count = sum(adjective_counter.values())"
   ]
  },
  {
   "cell_type": "code",
   "execution_count": 37,
   "metadata": {
    "collapsed": true
   },
   "outputs": [],
   "source": [
    "def noun_score(word):\n",
    "    prob_generic = nlp.vocab[word].prob\n",
    "    prob_headphone = math.log(noun_counter[word] / noun_total_count)\n",
    "    \n",
    "    return (prob_headphone - prob_generic)"
   ]
  },
  {
   "cell_type": "code",
   "execution_count": 47,
   "metadata": {
    "collapsed": true
   },
   "outputs": [],
   "source": [
    "def verb_score(word):\n",
    "    prob_generic = nlp.vocab[word].prob\n",
    "    prob_headphone = math.log(verb_counter[word] / verb_total_count)\n",
    "    \n",
    "    return (prob_headphone - prob_generic)"
   ]
  },
  {
   "cell_type": "code",
   "execution_count": 48,
   "metadata": {
    "collapsed": true
   },
   "outputs": [],
   "source": [
    "def adjective_score(word):\n",
    "    prob_generic = nlp.vocab[word].prob\n",
    "    prob_headphone = math.log(adjective_counter[word] / adjective_total_count)\n",
    "    \n",
    "    return (prob_headphone - prob_generic)"
   ]
  },
  {
   "cell_type": "markdown",
   "metadata": {},
   "source": [
    "### 형용사"
   ]
  },
  {
   "cell_type": "code",
   "execution_count": 58,
   "metadata": {
    "collapsed": false
   },
   "outputs": [
    {
     "name": "stdout",
     "output_type": "stream",
     "text": [
      "the-ear\t10.1864513437\t786\n",
      "circumaural\t9.06861341078\t148\n",
      "skullcandy\t8.71561507002\t286\n",
      "sibilant\t8.44130454899\t147\n",
      "tinny\t8.36388119133\t696\n",
      "foldable\t7.7700201081\t232\n",
      "detachable\t7.67511088889\t993\n",
      "earbud\t7.6530868457\t293\n",
      "treble\t7.52197962322\t1272\n",
      "punchy\t7.49346205337\t460\n",
      "rubberized\t7.31851041395\t148\n",
      "bassy\t7.29367619762\t213\n",
      "crisp\t7.20189771365\t2786\n",
      "muffled\t7.18613264818\t611\n",
      "velour\t7.15417202146\t124\n",
      "aural\t7.04959289411\t199\n",
      "pliable\t6.88580773278\t163\n",
      "snug\t6.86219729901\t833\n",
      "rubbery\t6.83743609411\t297\n",
      "airy\t6.82491303992\t273\n",
      "sturdy\t6.81182597596\t1763\n",
      "durable\t6.74818592869\t2471\n",
      "overpowering\t6.71488505661\t539\n",
      "stylish\t6.68025834413\t971\n",
      "muddy\t6.67284697119\t1114\n",
      "rechargeable\t6.60796125546\t309\n",
      "adjustable\t6.50140857601\t1025\n",
      "lightweight\t6.43907093142\t1369\n",
      "shrill\t6.4330706215\t207\n",
      "portable\t6.41079888909\t2513\n",
      "bluetooth\t6.31630909379\t986\n",
      "flimsy\t6.31534798358\t735\n",
      "retractable\t6.29886929732\t168\n",
      "sleek\t6.28948291113\t508\n",
      "padded\t6.22374659836\t539\n",
      "bulky\t6.14634388458\t896\n",
      "spacious\t6.14415081794\t174\n",
      "defective\t6.09826073718\t663\n",
      "replaceable\t6.07731199743\t455\n",
      "noisy\t6.06831878162\t834\n",
      "comfortable\t5.955954913\t15180\n",
      "3.5mm\t5.94761603109\t132\n",
      "removable\t5.91176338997\t489\n",
      "superb\t5.84952778557\t690\n",
      "orchestral\t5.80078651461\t149\n",
      "audible\t5.77360989462\t429\n",
      "inexpensive\t5.76082764829\t932\n",
      "compact\t5.72207842739\t779\n",
      "rugged\t5.70550064017\t246\n",
      "classical\t5.70184777812\t1611\n"
     ]
    }
   ],
   "source": [
    "target_adjectives = [w for (w, c) in adjective_counter.most_common() if c >= 100]\n",
    "target_adjectives_with_score = sorted([(word, adjective_score(word), adjective_counter[word]) for word in target_adjectives], key=lambda item: item[1], reverse=True)\n",
    "\n",
    "for w, score, raw_count in target_adjectives_with_score[:50]:\n",
    "    print('%s\\t%s\\t%s' % (w, score, raw_count))"
   ]
  },
  {
   "cell_type": "markdown",
   "metadata": {},
   "source": [
    "### 동사"
   ]
  },
  {
   "cell_type": "code",
   "execution_count": 59,
   "metadata": {
    "collapsed": false
   },
   "outputs": [
    {
     "name": "stdout",
     "output_type": "stream",
     "text": [
      "tangle\t8.3103264372\t603\n",
      "untangle\t7.58334256075\t165\n",
      "distort\t6.13106991266\t194\n",
      "overpower\t5.70226509443\t119\n",
      "isolate\t5.70155388322\t278\n",
      "disturb\t5.69198906845\t149\n",
      "fold\t5.65951001265\t804\n",
      "drown\t5.64609740754\t485\n",
      "earbuds\t5.58434479872\t130\n",
      "adjust\t5.5810265543\t1569\n",
      "loosen\t5.47267819856\t173\n",
      "withstand\t5.41945614209\t182\n",
      "crank\t5.36420961939\t294\n",
      "recharge\t5.16397724304\t153\n",
      "listen\t5.14154119591\t5074\n",
      "beware\t5.11579639783\t119\n",
      "disappoint\t5.05710214471\t284\n",
      "pause\t4.99910852334\t462\n",
      "plug\t4.97466223304\t1040\n",
      "surround\t4.96486413491\t217\n",
      "wear\t4.95271711988\t4774\n",
      "hear\t4.90680001504\t9254\n",
      "slip\t4.82630238496\t574\n",
      "replace\t4.78691708343\t1891\n",
      "customize\t4.78451064731\t132\n",
      "recommend\t4.76979642914\t4658\n",
      "connect\t4.7353149212\t918\n",
      "attach\t4.71483783412\t244\n",
      "reproduce\t4.66528441307\t215\n",
      "deliver\t4.65546888938\t598\n",
      "compare\t4.63131497907\t1422\n",
      "skip\t4.63015899028\t789\n",
      "fit\t4.58615694654\t4104\n",
      "seal\t4.58431867589\t300\n",
      "emphasize\t4.52065541522\t140\n",
      "cancel\t4.46470973404\t363\n",
      "leak\t4.45519973134\t281\n",
      "purchase\t4.41851972376\t1161\n",
      "sound\t4.36475856808\t5141\n",
      "fall\t4.35928747353\t2395\n",
      "bend\t4.33842024957\t287\n",
      "hesitate\t4.33007775077\t167\n",
      "interfere\t4.31386131869\t127\n",
      "accommodate\t4.28487559888\t116\n",
      "disconnect\t4.27902998959\t123\n",
      "block\t4.27469014595\t1362\n",
      "satisfy\t4.26561367936\t149\n",
      "impress\t4.26465193094\t155\n",
      "slide\t4.23783298035\t416\n",
      "snap\t4.18862945002\t317\n"
     ]
    }
   ],
   "source": [
    "target_verbs = [w for (w, c) in verb_counter.most_common() if c >= 100]\n",
    "target_verbs_with_score = sorted([(word, verb_score(word), verb_counter[word]) for word in target_verbs], key=lambda item: item[1], reverse=True)\n",
    "\n",
    "for w, score, raw_count in target_verbs_with_score[:50]:\n",
    "    print('%s\\t%s\\t%s' % (w, score, raw_count))"
   ]
  },
  {
   "cell_type": "markdown",
   "metadata": {},
   "source": [
    "### 명사"
   ]
  },
  {
   "cell_type": "code",
   "execution_count": 56,
   "metadata": {
    "collapsed": false
   },
   "outputs": [
    {
     "name": "stdout",
     "output_type": "stream",
     "text": [
      "[(u'earcup', 9.688782377145591, 324),\n",
      " (u'earphone', 9.54631687581853, 1828),\n",
      " (u'hesh', 9.392040769770524, 195),\n",
      " (u'earbud', 9.275509634830804, 2634),\n",
      " (u'the-ear', 9.018875601264213, 434),\n",
      " (u'skullcandy', 8.482411863668572, 402),\n",
      " (u'sibilance', 8.405522817250594, 335),\n",
      " (u'boomy', 8.338432843216822, 520),\n",
      " (u'soundstage', 8.291299448387067, 1811),\n",
      " (u'earpiece', 8.281503998909352, 1202),\n",
      " (u'headphone', 8.227452566053405, 12215),\n",
      " (u'multifunction', 8.203856587122665, 188),\n",
      " (u'headband', 8.17660769423254, 3560),\n",
      " (u'audiophile', 8.144105680108623, 3348),\n",
      " (u'pause/play', 8.100000172906938, 114),\n",
      " (u'basshead', 7.93461255846907, 152),\n",
      " (u'khz', 7.933853242353097, 111),\n",
      " (u'play/pause', 7.869411733345196, 246),\n",
      " (u'earplug', 7.7300515690218585, 109),\n",
      " (u'treble', 7.724766309123174, 2765),\n",
      " (u'klipsch', 7.69770533545843, 142),\n",
      " (u'tangle', 7.664765666783545, 1039),\n",
      " (u'bose', 7.644141886047922, 384),\n",
      " (u'cord', 7.467247100173, 12911),\n",
      " (u'pleather', 7.457117268337832, 240),\n",
      " (u'ear', 7.39828972194263, 38756),\n",
      " (u'earbuds', 7.284631550056582, 2339),\n",
      " (u'bass', 7.275775864758527, 29311),\n",
      " (u'headset', 7.1563160933541115, 7778),\n",
      " (u'cancellation', 7.091612591150561, 1828),\n",
      " (u'sennheiser', 7.0879992549907005, 258),\n",
      " (u'armature', 6.9894250575168915, 154),\n",
      " (u'the-go', 6.950231167980631, 147),\n",
      " (u'tangling', 6.926995433004583, 135),\n",
      " (u'cancelation', 6.916105934132391, 139),\n",
      " (u'equalizer', 6.912891896220704, 827),\n",
      " (u'winder', 6.738518223339664, 133),\n",
      " (u'microphone', 6.660229353129156, 3450),\n",
      " (u'flange', 6.580999198701457, 290),\n",
      " (u'fitment', 6.577809011924607, 125),\n",
      " (u'drawstring', 6.565410403920504, 123),\n",
      " (u'armband', 6.555601265997522, 243),\n",
      " (u'leakage', 6.544553549345421, 587),\n",
      " (u'bassy', 6.529204542792781, 176),\n",
      " (u'isolation', 6.485565964388793, 3162),\n",
      " (u'equalization', 6.4824030618577915, 182),\n",
      " (u'canal', 6.444874402471724, 1745),\n",
      " (u'bluetooth', 6.411150886255672, 1924),\n",
      " (u'velour', 6.404617870846197, 104),\n",
      " (u'moda', 6.399659900380465, 123)]\n"
     ]
    }
   ],
   "source": [
    "target_nouns = [w for (w, c) in noun_counter.most_common() if c >= 100]\n",
    "target_nouns_with_score = sorted([(word, noun_score(word), noun_counter[word]) for word in target_nouns], key=lambda item: item[1], reverse=True)\n",
    "\n",
    "for w, score, raw_count in target_nouns_with_score[:50]:\n",
    "    print('%s\\t%s\\t%s' % (w, score, raw_count))"
   ]
  }
 ],
 "metadata": {
  "kernelspec": {
   "display_name": "Python 2",
   "language": "python",
   "name": "python2"
  },
  "language_info": {
   "codemirror_mode": {
    "name": "ipython",
    "version": 2
   },
   "file_extension": ".py",
   "mimetype": "text/x-python",
   "name": "python",
   "nbconvert_exporter": "python",
   "pygments_lexer": "ipython2",
   "version": "2.7.10"
  }
 },
 "nbformat": 4,
 "nbformat_minor": 0
}
